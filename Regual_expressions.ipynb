{
 "cells": [
  {
   "cell_type": "markdown",
   "metadata": {
    "id": "0TU0EOUCluzI"
   },
   "source": [
    "## Подготовка данных для задания"
   ]
  },
  {
   "cell_type": "code",
   "execution_count": 1,
   "metadata": {
    "id": "lp0-7XZPTNsm"
   },
   "outputs": [
    {
     "name": "stdout",
     "output_type": "stream",
     "text": [
      "Collecting pymorphy2\n",
      "  Downloading pymorphy2-0.9.1-py3-none-any.whl (55 kB)\n",
      "Collecting docopt>=0.6\n",
      "  Downloading docopt-0.6.2.tar.gz (25 kB)\n",
      "Collecting dawg-python>=0.7.1\n",
      "  Downloading DAWG_Python-0.7.2-py2.py3-none-any.whl (11 kB)\n",
      "Collecting pymorphy2-dicts-ru<3.0,>=2.4\n",
      "  Downloading pymorphy2_dicts_ru-2.4.417127.4579844-py2.py3-none-any.whl (8.2 MB)\n",
      "Building wheels for collected packages: docopt\n",
      "  Building wheel for docopt (setup.py): started\n",
      "  Building wheel for docopt (setup.py): finished with status 'done'\n",
      "  Created wheel for docopt: filename=docopt-0.6.2-py2.py3-none-any.whl size=13723 sha256=b0e6d83fcd04bcf734f17b0a9bebcfe47c5d5024f96d5fe26360aef0d68931a6\n",
      "  Stored in directory: c:\\users\\орлан\\appdata\\local\\pip\\cache\\wheels\\70\\4a\\46\\1309fc853b8d395e60bafaf1b6df7845bdd82c95fd59dd8d2b\n",
      "Successfully built docopt\n",
      "Installing collected packages: pymorphy2-dicts-ru, docopt, dawg-python, pymorphy2\n",
      "Successfully installed dawg-python-0.7.2 docopt-0.6.2 pymorphy2-0.9.1 pymorphy2-dicts-ru-2.4.417127.4579844\n"
     ]
    }
   ],
   "source": [
    "!pip install pymorphy2"
   ]
  },
  {
   "cell_type": "code",
   "execution_count": 12,
   "metadata": {
    "colab": {
     "base_uri": "https://localhost:8080/",
     "height": 359
    },
    "executionInfo": {
     "elapsed": 767,
     "status": "ok",
     "timestamp": 1632931510917,
     "user": {
      "displayName": "Ketrin Trofimova",
      "photoUrl": "https://lh3.googleusercontent.com/a/default-user=s64",
      "userId": "05400058012601189465"
     },
     "user_tz": -180
    },
    "id": "xmVmCpFNRbnB",
    "outputId": "7d45e681-de26-4818-be85-8a3853867ef8"
   },
   "outputs": [
    {
     "data": {
      "text/html": [
       "<div>\n",
       "<style scoped>\n",
       "    .dataframe tbody tr th:only-of-type {\n",
       "        vertical-align: middle;\n",
       "    }\n",
       "\n",
       "    .dataframe tbody tr th {\n",
       "        vertical-align: top;\n",
       "    }\n",
       "\n",
       "    .dataframe thead th {\n",
       "        text-align: right;\n",
       "    }\n",
       "</style>\n",
       "<table border=\"1\" class=\"dataframe\">\n",
       "  <thead>\n",
       "    <tr style=\"text-align: right;\">\n",
       "      <th></th>\n",
       "      <th>doc_id</th>\n",
       "      <th>word</th>\n",
       "      <th>dummy</th>\n",
       "    </tr>\n",
       "  </thead>\n",
       "  <tbody>\n",
       "    <tr>\n",
       "      <th>0</th>\n",
       "      <td>0</td>\n",
       "      <td>1895</td>\n",
       "      <td>1</td>\n",
       "    </tr>\n",
       "    <tr>\n",
       "      <th>1</th>\n",
       "      <td>0</td>\n",
       "      <td>а</td>\n",
       "      <td>1</td>\n",
       "    </tr>\n",
       "    <tr>\n",
       "      <th>2</th>\n",
       "      <td>0</td>\n",
       "      <td>абсолютно</td>\n",
       "      <td>1</td>\n",
       "    </tr>\n",
       "    <tr>\n",
       "      <th>3</th>\n",
       "      <td>0</td>\n",
       "      <td>англия</td>\n",
       "      <td>1</td>\n",
       "    </tr>\n",
       "    <tr>\n",
       "      <th>4</th>\n",
       "      <td>0</td>\n",
       "      <td>безобразный</td>\n",
       "      <td>1</td>\n",
       "    </tr>\n",
       "    <tr>\n",
       "      <th>...</th>\n",
       "      <td>...</td>\n",
       "      <td>...</td>\n",
       "      <td>...</td>\n",
       "    </tr>\n",
       "    <tr>\n",
       "      <th>834</th>\n",
       "      <td>7</td>\n",
       "      <td>экономический</td>\n",
       "      <td>1</td>\n",
       "    </tr>\n",
       "    <tr>\n",
       "      <th>835</th>\n",
       "      <td>7</td>\n",
       "      <td>экран</td>\n",
       "      <td>1</td>\n",
       "    </tr>\n",
       "    <tr>\n",
       "      <th>836</th>\n",
       "      <td>7</td>\n",
       "      <td>эльгорт</td>\n",
       "      <td>1</td>\n",
       "    </tr>\n",
       "    <tr>\n",
       "      <th>837</th>\n",
       "      <td>7</td>\n",
       "      <td>энсесть</td>\n",
       "      <td>1</td>\n",
       "    </tr>\n",
       "    <tr>\n",
       "      <th>838</th>\n",
       "      <td>7</td>\n",
       "      <td>этот</td>\n",
       "      <td>1</td>\n",
       "    </tr>\n",
       "  </tbody>\n",
       "</table>\n",
       "<p>839 rows × 3 columns</p>\n",
       "</div>"
      ],
      "text/plain": [
       "     doc_id           word  dummy\n",
       "0         0           1895      1\n",
       "1         0              а      1\n",
       "2         0      абсолютно      1\n",
       "3         0         англия      1\n",
       "4         0    безобразный      1\n",
       "..      ...            ...    ...\n",
       "834       7  экономический      1\n",
       "835       7          экран      1\n",
       "836       7        эльгорт      1\n",
       "837       7        энсесть      1\n",
       "838       7           этот      1\n",
       "\n",
       "[839 rows x 3 columns]"
      ]
     },
     "execution_count": 12,
     "metadata": {},
     "output_type": "execute_result"
    }
   ],
   "source": [
    "import re\n",
    "\n",
    "import pandas as pd\n",
    "import pymorphy2\n",
    "\n",
    "text_df = pd.read_csv(\"content_description.csv\", sep='\\t')\n",
    "#text_df = pd.read_csv(\"./data/content_description.csv\", sep='\\t')\n",
    "text_df.head()\n",
    "\n",
    "# разбиваем тест на слова\n",
    "corpus = []\n",
    "# регулярка для поиска слов\n",
    "regular_expr = r'\\w+'\n",
    "reg_expr_compiled = re.compile(regular_expr)\n",
    "\n",
    "# формируем датасет из отдельных слов\n",
    "for raw_text in text_df.description.values:\n",
    "    # приводим к нижнему регистру\n",
    "    raw_text_lower = raw_text.lower()\n",
    "    # разбиваем текст на слова\n",
    "    text_by_words = reg_expr_compiled.findall(raw_text_lower) \n",
    "    corpus.append(text_by_words)\n",
    "\n",
    "# нормализация текста\n",
    "normalized_corpus = []\n",
    "morph = pymorphy2.MorphAnalyzer()\n",
    "# нормализуем каждое слово в тексте\n",
    "for token_list in corpus:\n",
    "    normalized_token_list = []\n",
    "    for word in token_list:\n",
    "        parsed_token = morph.parse(word)\n",
    "        normal_form = parsed_token[0].normal_form\n",
    "        normalized_token_list.append(normal_form)\n",
    "    normalized_corpus.append(normalized_token_list)\n",
    "\n",
    "# превращаем в DataFrame\n",
    "doc_count = len(normalized_corpus)\n",
    "doc_ids = []\n",
    "tokens = []\n",
    "# формируем два списка-колонки датафрейма\n",
    "for doc_id in range(doc_count):\n",
    "    for token in normalized_corpus[doc_id]:\n",
    "        doc_ids.append(doc_id)\n",
    "        tokens.append(token)\n",
    "\n",
    "tokens_df = pd.DataFrame({\n",
    "    'doc_id': doc_ids,\n",
    "    'word': tokens\n",
    "})\n",
    "# дамми-столбец\n",
    "tokens_df = tokens_df.assign(dummy = 1)\n",
    "# аггрегируем статистики\n",
    "word_count_df = tokens_df.groupby(['doc_id','word'])['dummy'].count().reset_index()\n",
    "\n",
    "word_count_df[word_count_df.doc_id==0].sort_values(by='dummy', ascending=False)\n",
    "word_count_df"
   ]
  },
  {
   "cell_type": "markdown",
   "metadata": {
    "id": "oYSsovIKRbnI"
   },
   "source": [
    "## 12.3  Практическая работа\n",
    "\n",
    "12.3.1 **Задание простого уровня** Для каждого слова подсчитайте процент документов, в которых содержится это слово. Сформируйте dataframe doc_frequency. Процен документов вычисляется по формуле\n",
    "$$\n",
    "d = \\frac{m}{n} \\times 100\n",
    "$$\n",
    "где $m$ - количество документов, в которых встретилось это слово, а $n$ - общее количество документов. Значение в процентах округлите до целых.\n",
    "\n",
    "Посмотрите какие слова оказались в топе - это предлоги и частицы. Такие слова присутствуют во всех документах, а значит, их можно удалить из текста, чтобы оставшиеся слова были более \"осмысленными\". Это упростит анализ текста."
   ]
  },
  {
   "cell_type": "code",
   "execution_count": 2,
   "metadata": {
    "colab": {
     "base_uri": "https://localhost:8080/",
     "height": 32
    },
    "executionInfo": {
     "elapsed": 718,
     "status": "ok",
     "timestamp": 1632931946759,
     "user": {
      "displayName": "Ketrin Trofimova",
      "photoUrl": "https://lh3.googleusercontent.com/a/default-user=s64",
      "userId": "05400058012601189465"
     },
     "user_tz": -180
    },
    "id": "Gvr1-E9aRbnJ",
    "outputId": "5e7c8b9c-8ad4-485b-d725-174a1058a8f1"
   },
   "outputs": [
    {
     "data": {
      "text/html": [
       "<div>\n",
       "<style scoped>\n",
       "    .dataframe tbody tr th:only-of-type {\n",
       "        vertical-align: middle;\n",
       "    }\n",
       "\n",
       "    .dataframe tbody tr th {\n",
       "        vertical-align: top;\n",
       "    }\n",
       "\n",
       "    .dataframe thead th {\n",
       "        text-align: right;\n",
       "    }\n",
       "</style>\n",
       "<table border=\"1\" class=\"dataframe\">\n",
       "  <thead>\n",
       "    <tr style=\"text-align: right;\">\n",
       "      <th></th>\n",
       "      <th>word</th>\n",
       "      <th>doc_frequency</th>\n",
       "    </tr>\n",
       "  </thead>\n",
       "  <tbody>\n",
       "    <tr>\n",
       "      <th>4</th>\n",
       "      <td>он</td>\n",
       "      <td>75.0</td>\n",
       "    </tr>\n",
       "    <tr>\n",
       "      <th>5</th>\n",
       "      <td>свой</td>\n",
       "      <td>75.0</td>\n",
       "    </tr>\n",
       "    <tr>\n",
       "      <th>7</th>\n",
       "      <td>онлайн</td>\n",
       "      <td>75.0</td>\n",
       "    </tr>\n",
       "    <tr>\n",
       "      <th>9</th>\n",
       "      <td>год</td>\n",
       "      <td>62.0</td>\n",
       "    </tr>\n",
       "    <tr>\n",
       "      <th>10</th>\n",
       "      <td>смотреть</td>\n",
       "      <td>62.0</td>\n",
       "    </tr>\n",
       "  </tbody>\n",
       "</table>\n",
       "</div>"
      ],
      "text/plain": [
       "        word  doc_frequency\n",
       "4         он           75.0\n",
       "5       свой           75.0\n",
       "7     онлайн           75.0\n",
       "9        год           62.0\n",
       "10  смотреть           62.0"
      ]
     },
     "execution_count": 2,
     "metadata": {},
     "output_type": "execute_result"
    }
   ],
   "source": [
    "doc_frequency = word_count_df.groupby('word')['doc_id'].count().sort_values(ascending=False).reset_index()\n",
    "doc_frequency['doc_frequency'] = round((doc_frequency['doc_id'] / (word_count_df['doc_id'].max() + 1)) * 100)\n",
    "#doc_frequency\n",
    "\n",
    "# выведите на экран топ-10 слов\n",
    "doc_frequency = pd.DataFrame(doc_frequency.loc[:, ['word', 'doc_frequency']])\n",
    "doc_frequency.head(10)\n",
    "\n",
    "# -- ВАШ КОД ЗДЕСЬ --\n",
    "morph = pymorphy2.MorphAnalyzer()\n",
    "pre = ['INTJ', 'PRCL', 'CONJ', 'PREP']\n",
    "words = []\n",
    "for word in doc_frequency['word']:\n",
    "    w = morph.parse(word)[0].tag.POS\n",
    "    #print(w)\n",
    "    if w not in pre:\n",
    "        words.append(word)\n",
    "#print(words)\n",
    "doc_frequency[doc_frequency['word'].isin(words)].head()"
   ]
  },
  {
   "cell_type": "markdown",
   "metadata": {
    "id": "Cfnb-W2uRbnK"
   },
   "source": [
    "12.3.2 **Задание среднего уровня**\n",
    "\n",
    "Воспользуйтесь регулярными выражениями, чтобы извлечь из текста все пары **имя+фамилия**.\n",
    "\n",
    "* неформальное описание регулярки: пара слов идущая друг за другом, каждое из которых начинается с заглавной буквы\n",
    "* анализировать нужно только `doc_id=3`\n",
    "* текст берём из исходного датафрейма `text_df`\n",
    "* заглавная буква в русскоязычном тексте соответствует символьному классу `r'[A-Я]*'`"
   ]
  },
  {
   "cell_type": "code",
   "execution_count": 3,
   "metadata": {
    "id": "fLKkVa_ORbnK"
   },
   "outputs": [
    {
     "name": "stdout",
     "output_type": "stream",
     "text": [
      "Миловидный Давид\n"
     ]
    }
   ],
   "source": [
    "raw_text = str(text_df.loc[[2], 'description'])\n",
    "# запишите необходимое регулярное выражение в переменную reg_expr \n",
    "reg_expr = r'[А-Я][а-я]+\\s[А-Я][а-я]+'\n",
    "\n",
    "# скомпилированное выражение добавьте в обьёект reg_expr_compiled\n",
    "reg_expr_compiled = re.compile(reg_expr)\n",
    "\n",
    "# применяем выражение к тексту\n",
    "for g in reg_expr_compiled.findall(raw_text):\n",
    "    print(g)"
   ]
  },
  {
   "cell_type": "markdown",
   "metadata": {
    "id": "nKvd6GYSRbnL"
   },
   "source": [
    "10.3.3 **Задание сложного уровня**. Словарь `genre_dict` содержит слова, которые являются характерными для того или иного жанра. Пользуясь словарём, а так же таблицей `word_count_df`, сформируйте таблицу двумя колонками `doc_id | genre` с жанрами фильмов.\n",
    "\n",
    "Для этого нужно\n",
    "* превратить словарь `genre_dict` в DataFrame формата `word | genre`, сохранить в переменнуб `genres_df`\n",
    "* соединить полученный датафрейм с помощью функции `merge` c ранее полученным датафреймом `word_count_df`, котороый содержит распределение слов по документам. Воспользуйтесь методом соединения `inner`\n",
    "* для каждого документа выбрать жанр документа - это совокупность жанров слов отдельных слов. У одного контента может быть несколько жанров"
   ]
  },
  {
   "cell_type": "code",
   "execution_count": 35,
   "metadata": {
    "id": "8mIEqm72RbnM"
   },
   "outputs": [
    {
     "data": {
      "text/html": [
       "<div>\n",
       "<style scoped>\n",
       "    .dataframe tbody tr th:only-of-type {\n",
       "        vertical-align: middle;\n",
       "    }\n",
       "\n",
       "    .dataframe tbody tr th {\n",
       "        vertical-align: top;\n",
       "    }\n",
       "\n",
       "    .dataframe thead th {\n",
       "        text-align: right;\n",
       "    }\n",
       "</style>\n",
       "<table border=\"1\" class=\"dataframe\">\n",
       "  <thead>\n",
       "    <tr style=\"text-align: right;\">\n",
       "      <th></th>\n",
       "      <th>doc_id</th>\n",
       "      <th>genre</th>\n",
       "    </tr>\n",
       "  </thead>\n",
       "  <tbody>\n",
       "    <tr>\n",
       "      <th>0</th>\n",
       "      <td>0</td>\n",
       "      <td>[nan, детектив, триллер]</td>\n",
       "    </tr>\n",
       "    <tr>\n",
       "      <th>1</th>\n",
       "      <td>1</td>\n",
       "      <td>[nan, сказка]</td>\n",
       "    </tr>\n",
       "    <tr>\n",
       "      <th>2</th>\n",
       "      <td>2</td>\n",
       "      <td>[nan, мелодрама]</td>\n",
       "    </tr>\n",
       "    <tr>\n",
       "      <th>3</th>\n",
       "      <td>3</td>\n",
       "      <td>[nan, комедия]</td>\n",
       "    </tr>\n",
       "    <tr>\n",
       "      <th>4</th>\n",
       "      <td>4</td>\n",
       "      <td>[nan, комедия]</td>\n",
       "    </tr>\n",
       "  </tbody>\n",
       "</table>\n",
       "</div>"
      ],
      "text/plain": [
       "   doc_id                     genre\n",
       "0       0  [nan, детектив, триллер]\n",
       "1       1             [nan, сказка]\n",
       "2       2          [nan, мелодрама]\n",
       "3       3            [nan, комедия]\n",
       "4       4            [nan, комедия]"
      ]
     },
     "execution_count": 35,
     "metadata": {},
     "output_type": "execute_result"
    }
   ],
   "source": [
    "import itertools\n",
    "import pandas as pd\n",
    "\n",
    "genre_dict = {\n",
    "    'комедия': ['сатирический', 'авантюрный', 'забавный'],\n",
    "    'мелодрама': ['выбор', 'позор'],\n",
    "    'сказка': ['приключения', 'милый', 'семейный'],\n",
    "    'детектив': ['тайна', 'разгадать', 'загадочный'], \n",
    "    'триллер': ['ужас', 'зловещий', 'нерв']\n",
    "}\n",
    "#genres_df = pd.DataFrame()\n",
    "nested_genres = [[(i, j) for j in genre_dict[i]] for i in genre_dict]\n",
    "#nested_genres\n",
    "flatten_genres = list(itertools.chain(*nested_genres))\n",
    "#flatten_genres\n",
    "genres_df = pd.DataFrame(flatten_genres, columns = ['genre', 'word'])\n",
    "#genres_df\n",
    "genres_df = genres_df[['word', 'genre']]\n",
    "#genres_df\n",
    "merged_df = word_count_df.merge(genres_df, on = 'word', how = 'left')\n",
    "merged_df_doc = pd.DataFrame(merged_df.groupby('doc_id')['genre'].unique().reset_index())\n",
    "merged_df_doc.head()"
   ]
  },
  {
   "cell_type": "code",
   "execution_count": null,
   "metadata": {},
   "outputs": [],
   "source": []
  }
 ],
 "metadata": {
  "colab": {
   "collapsed_sections": [],
   "name": "Работа со строками. Домашняя работа.ipynb",
   "provenance": []
  },
  "kernelspec": {
   "display_name": "Python 3 (ipykernel)",
   "language": "python",
   "name": "python3"
  },
  "language_info": {
   "codemirror_mode": {
    "name": "ipython",
    "version": 3
   },
   "file_extension": ".py",
   "mimetype": "text/x-python",
   "name": "python",
   "nbconvert_exporter": "python",
   "pygments_lexer": "ipython3",
   "version": "3.9.13"
  }
 },
 "nbformat": 4,
 "nbformat_minor": 1
}
