{
 "cells": [
  {
   "cell_type": "markdown",
   "id": "acf2ea8a",
   "metadata": {},
   "source": [
    "#### Импорт библиотек и изучение датасета:"
   ]
  },
  {
   "cell_type": "code",
   "execution_count": 49,
   "id": "c23c0e62",
   "metadata": {},
   "outputs": [],
   "source": [
    "import pandas as pd\n",
    "import numpy as np\n",
    "from statsmodels.stats.proportion import proportions_ztest as ztest\n",
    "import matplotlib.pyplot as plt\n",
    "import random\n",
    "\n",
    "raw_data = pd.read_csv('jewerly.csv')"
   ]
  },
  {
   "cell_type": "code",
   "execution_count": 7,
   "id": "528c7b90",
   "metadata": {
    "scrolled": false
   },
   "outputs": [
    {
     "data": {
      "text/html": [
       "<div>\n",
       "<style scoped>\n",
       "    .dataframe tbody tr th:only-of-type {\n",
       "        vertical-align: middle;\n",
       "    }\n",
       "\n",
       "    .dataframe tbody tr th {\n",
       "        vertical-align: top;\n",
       "    }\n",
       "\n",
       "    .dataframe thead th {\n",
       "        text-align: right;\n",
       "    }\n",
       "</style>\n",
       "<table border=\"1\" class=\"dataframe\">\n",
       "  <thead>\n",
       "    <tr style=\"text-align: right;\">\n",
       "      <th></th>\n",
       "      <th>date</th>\n",
       "      <th>Variant</th>\n",
       "      <th>cnt(addToCart)</th>\n",
       "      <th>sum(addToCartItems)</th>\n",
       "    </tr>\n",
       "  </thead>\n",
       "  <tbody>\n",
       "    <tr>\n",
       "      <th>0</th>\n",
       "      <td>2019-09-01</td>\n",
       "      <td>90</td>\n",
       "      <td>56</td>\n",
       "      <td>110247</td>\n",
       "    </tr>\n",
       "    <tr>\n",
       "      <th>1</th>\n",
       "      <td>2019-09-01</td>\n",
       "      <td>10</td>\n",
       "      <td>52</td>\n",
       "      <td>163098</td>\n",
       "    </tr>\n",
       "    <tr>\n",
       "      <th>2</th>\n",
       "      <td>2019-09-02</td>\n",
       "      <td>10</td>\n",
       "      <td>59</td>\n",
       "      <td>93317</td>\n",
       "    </tr>\n",
       "    <tr>\n",
       "      <th>3</th>\n",
       "      <td>2019-09-02</td>\n",
       "      <td>90</td>\n",
       "      <td>56</td>\n",
       "      <td>26457</td>\n",
       "    </tr>\n",
       "    <tr>\n",
       "      <th>4</th>\n",
       "      <td>2019-09-03</td>\n",
       "      <td>90</td>\n",
       "      <td>54</td>\n",
       "      <td>56418</td>\n",
       "    </tr>\n",
       "  </tbody>\n",
       "</table>\n",
       "</div>"
      ],
      "text/plain": [
       "         date  Variant  cnt(addToCart)  sum(addToCartItems)\n",
       "0  2019-09-01       90              56               110247\n",
       "1  2019-09-01       10              52               163098\n",
       "2  2019-09-02       10              59                93317\n",
       "3  2019-09-02       90              56                26457\n",
       "4  2019-09-03       90              54                56418"
      ]
     },
     "execution_count": 7,
     "metadata": {},
     "output_type": "execute_result"
    }
   ],
   "source": [
    "raw_data.head(5)"
   ]
  },
  {
   "cell_type": "code",
   "execution_count": 8,
   "id": "25a4a412",
   "metadata": {},
   "outputs": [
    {
     "name": "stdout",
     "output_type": "stream",
     "text": [
      "<class 'pandas.core.frame.DataFrame'>\n",
      "RangeIndex: 50 entries, 0 to 49\n",
      "Data columns (total 4 columns):\n",
      " #   Column               Non-Null Count  Dtype \n",
      "---  ------               --------------  ----- \n",
      " 0   date                 50 non-null     object\n",
      " 1   Variant              50 non-null     int64 \n",
      " 2   cnt(addToCart)       50 non-null     int64 \n",
      " 3   sum(addToCartItems)  50 non-null     int64 \n",
      "dtypes: int64(3), object(1)\n",
      "memory usage: 1.7+ KB\n"
     ]
    }
   ],
   "source": [
    "raw_data.info()"
   ]
  },
  {
   "cell_type": "markdown",
   "id": "628c43d2",
   "metadata": {},
   "source": [
    "#### Формулируем гипотезы:\n",
    "\n",
    "При формулировании гипотезы и выборе метрики следует учесть следующие факторы:\n",
    "* несмотря на то, что основная цель работы интернет-магазина заключается в увеличении прибыли, наличие калькулятора или таблицы не является основным фактором, который влияет на средний чек покупателя. Например, на покупку товара может влиять состав изделия, дизайн и т.д. \n",
    "* возможность узнать свой размер, очевидно, влияет на последующее добавление товара в корзину. \n",
    "\n",
    "Таким образом, целесообразно в качестве метрики выбрать соотношение количества добавления товара (при калькуляторе или таблице) и общего количества добавления товаров за день.\n",
    "\n",
    "*Гипотезы:*\n",
    "\n",
    "H0: p_calc = p_table \\\n",
    "H1 : p_calc > p_table"
   ]
  },
  {
   "cell_type": "markdown",
   "id": "dfb8b9ae",
   "metadata": {},
   "source": [
    "#### Подготовка данных:"
   ]
  },
  {
   "cell_type": "code",
   "execution_count": 31,
   "id": "26c18bac",
   "metadata": {},
   "outputs": [
    {
     "data": {
      "text/html": [
       "<div>\n",
       "<style scoped>\n",
       "    .dataframe tbody tr th:only-of-type {\n",
       "        vertical-align: middle;\n",
       "    }\n",
       "\n",
       "    .dataframe tbody tr th {\n",
       "        vertical-align: top;\n",
       "    }\n",
       "\n",
       "    .dataframe thead th {\n",
       "        text-align: right;\n",
       "    }\n",
       "</style>\n",
       "<table border=\"1\" class=\"dataframe\">\n",
       "  <thead>\n",
       "    <tr style=\"text-align: right;\">\n",
       "      <th></th>\n",
       "      <th>date</th>\n",
       "      <th>cnt(addToCart)</th>\n",
       "    </tr>\n",
       "  </thead>\n",
       "  <tbody>\n",
       "    <tr>\n",
       "      <th>0</th>\n",
       "      <td>2019-09-01</td>\n",
       "      <td>108</td>\n",
       "    </tr>\n",
       "    <tr>\n",
       "      <th>1</th>\n",
       "      <td>2019-09-02</td>\n",
       "      <td>115</td>\n",
       "    </tr>\n",
       "    <tr>\n",
       "      <th>2</th>\n",
       "      <td>2019-09-03</td>\n",
       "      <td>100</td>\n",
       "    </tr>\n",
       "    <tr>\n",
       "      <th>3</th>\n",
       "      <td>2019-09-04</td>\n",
       "      <td>105</td>\n",
       "    </tr>\n",
       "    <tr>\n",
       "      <th>4</th>\n",
       "      <td>2019-09-05</td>\n",
       "      <td>131</td>\n",
       "    </tr>\n",
       "  </tbody>\n",
       "</table>\n",
       "</div>"
      ],
      "text/plain": [
       "         date  cnt(addToCart)\n",
       "0  2019-09-01             108\n",
       "1  2019-09-02             115\n",
       "2  2019-09-03             100\n",
       "3  2019-09-04             105\n",
       "4  2019-09-05             131"
      ]
     },
     "execution_count": 31,
     "metadata": {},
     "output_type": "execute_result"
    }
   ],
   "source": [
    "### группировка по датам и вычисление общего числа добавления товаров в корзину за день\n",
    "common = raw_data.groupby('date')['cnt(addToCart)'].sum().reset_index()\n",
    "common.head()"
   ]
  },
  {
   "cell_type": "code",
   "execution_count": 58,
   "id": "44e99bd3",
   "metadata": {
    "scrolled": true
   },
   "outputs": [],
   "source": [
    "### высчитываем количество \"успехов\" и общее количество \"исходов\" для случаев использования калькулятора\n",
    "calc = pd.DataFrame({'count': raw_data[raw_data['Variant'] == 10]['cnt(addToCart)']}).set_index(np.arange(calc.shape[0]))\n",
    "calc['common'] = common['cnt(addToCart)']\n",
    "calc_success = calc['count'].sum()\n",
    "calc_total = calc['common'].sum()"
   ]
  },
  {
   "cell_type": "code",
   "execution_count": 59,
   "id": "eb92d4cf",
   "metadata": {},
   "outputs": [],
   "source": [
    "### высчитываем количество \"успехов\" и общее количество \"исходов\" для случаев использования таблицы\n",
    "table = pd.DataFrame({'count': raw_data[raw_data['Variant'] == 90]['cnt(addToCart)']}).set_index(np.arange(table.shape[0]))\n",
    "table['common'] = calc['common']\n",
    "table_success = table['count'].sum()\n",
    "table_total = table['common'].sum()"
   ]
  },
  {
   "cell_type": "markdown",
   "id": "4548f6fc",
   "metadata": {},
   "source": [
    "#### Выбор статистического критерия (подхода)\n",
    "\n",
    "Будем считать, что распределение количества добавления товаров в корзину в генеральной совокупности имеет нормальное распределение. Используем критерий z-test"
   ]
  },
  {
   "cell_type": "code",
   "execution_count": 66,
   "id": "28eeed8a",
   "metadata": {
    "scrolled": true
   },
   "outputs": [
    {
     "name": "stdout",
     "output_type": "stream",
     "text": [
      "p-value:  0.33167751348863594\n"
     ]
    }
   ],
   "source": [
    "my_count = np.array([calc_success, table_success])\n",
    "my_nobs = np.array([calc_total, table_total])\n",
    "\n",
    "result = ztest(my_count, my_nobs, alternative = 'larger')\n",
    "print('p-value: ', result[1])"
   ]
  },
  {
   "cell_type": "markdown",
   "id": "bbf18dd4",
   "metadata": {},
   "source": [
    "#### Выводы:\n",
    "\n",
    "Статистический вывод: на имеющихся данных, с уровнем значимости 5% (уровнем доверия 95%), есть основания принять H0.\n",
    "\n",
    "Содержательный вывод: использование калькулятора не увеличивает количество добавления товаров по сравнению с использованием таблицы."
   ]
  }
 ],
 "metadata": {
  "kernelspec": {
   "display_name": "Python 3 (ipykernel)",
   "language": "python",
   "name": "python3"
  },
  "language_info": {
   "codemirror_mode": {
    "name": "ipython",
    "version": 3
   },
   "file_extension": ".py",
   "mimetype": "text/x-python",
   "name": "python",
   "nbconvert_exporter": "python",
   "pygments_lexer": "ipython3",
   "version": "3.9.12"
  }
 },
 "nbformat": 4,
 "nbformat_minor": 5
}
